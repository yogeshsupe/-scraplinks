{
  "nbformat": 4,
  "nbformat_minor": 0,
  "metadata": {
    "celltoolbar": "Raw Cell Format",
    "kernelspec": {
      "display_name": "Python 3",
      "language": "python",
      "name": "python3"
    },
    "language_info": {
      "codemirror_mode": {
        "name": "ipython",
        "version": 3
      },
      "file_extension": ".py",
      "mimetype": "text/x-python",
      "name": "python",
      "nbconvert_exporter": "python",
      "pygments_lexer": "ipython3",
      "version": "3.7.1"
    },
    "colab": {
      "name": "193100059_A2.ipynb",
      "provenance": [],
      "collapsed_sections": [],
      "include_colab_link": true
    }
  },
  "cells": [
    {
      "cell_type": "markdown",
      "metadata": {
        "id": "view-in-github",
        "colab_type": "text"
      },
      "source": [
        "<a href=\"https://colab.research.google.com/github/yogeshsupe/-scraplinks/blob/master/193100059_A2.ipynb\" target=\"_parent\"><img src=\"https://colab.research.google.com/assets/colab-badge.svg\" alt=\"Open In Colab\"/></a>"
      ]
    },
    {
      "cell_type": "markdown",
      "metadata": {
        "id": "ujI86tekVYhw",
        "colab_type": "text"
      },
      "source": [
        "## Assignment 2  ME 781  (Data Scale)"
      ]
    },
    {
      "cell_type": "markdown",
      "metadata": {
        "id": "pNMWrmVhVYhx",
        "colab_type": "text"
      },
      "source": [
        "### Perform the following tasks in sequence:\n",
        "\n",
        "1. Create a list of 5 open data sets available for machine learning along with their links for each of the three Data Types (Discrete data Type, Sequential (temporal) data Type and Spatial data Type)\n",
        "\n",
        "\n",
        "2. Write a python code to input a dataset (csv file) of Discrete data type, automatically identify and print the\n",
        "\n",
        "    a. Number of attributes and number of entries\n",
        "    \n",
        "    b. Data scale of each attribute\n",
        "    \n",
        "    c. Data value of each attribute\n",
        "\n",
        "\n",
        "3.      Write a python code to perform statistics on each data column based on its data scale.\n",
        "\n",
        "\n",
        "4.      Can we use a box plot for visualizing ordinal data? (Yes/No). Explain why. \n",
        "\n",
        "![MicrosoftTeams-image2.png](attachment:MicrosoftTeams-image2.png)\n",
        "\n",
        "\n",
        "5.      Write a python code to visualize data in the csv file (a generalized method depending upon data scale) \n",
        "\n",
        "    Assignment instructions:\n",
        "    1. Naming convention: Please name your colab files as rollnumber_A2.ipynb. \n",
        "    2. Learn how to use markdown to add texts in colab to make your code interactive and understandable. \n",
        "    3. After completion of your assignment download the file as .ipynb and submit itusing Teams assignment tab."
      ]
    },
    {
      "cell_type": "markdown",
      "metadata": {
        "id": "pXpmGjZPVYhx",
        "colab_type": "text"
      },
      "source": [
        "  ###  We have a software to check plagiarism in code, if anyone found copying the code, strict action will be taken against such students and can also be given FR grade directly.\n",
        "    \n",
        "  We  expect  you  to  upload  colab  notebooks  when  you  are  required  to  turn  your  programming assignments.  Please  make  sure  that  you  provide  enough  comments  in  the  code  for  the TAs to understand \n",
        "       "
      ]
    },
    {
      "cell_type": "markdown",
      "metadata": {
        "id": "JhNV73MCVYhy",
        "colab_type": "text"
      },
      "source": [
        "### Libraries"
      ]
    },
    {
      "cell_type": "code",
      "metadata": {
        "id": "AwVPY_SUVYhy",
        "colab_type": "code",
        "colab": {}
      },
      "source": [
        "import numpy as np\n",
        "import pandas as pd\n",
        "import matplotlib.pyplot as plt\n",
        "import seaborn as sns \n",
        "import scipy.stats as statis\n",
        "import statistics"
      ],
      "execution_count": null,
      "outputs": []
    },
    {
      "cell_type": "markdown",
      "metadata": {
        "id": "K1o7ymhVVYh1",
        "colab_type": "text"
      },
      "source": [
        "### 1. List of 5 open data sets"
      ]
    },
    {
      "cell_type": "markdown",
      "metadata": {
        "id": "kYhuqX7EVrOw",
        "colab_type": "text"
      },
      "source": [
        "The following datasets used in the notebook to form list.\n",
        "\n",
        "**Discrete data**\n",
        "1. Iris dataset: Predict flower type of the Iris plant species from length, width of sepal and petal.\n",
        "2. Student Dataset given as example in A2.\n",
        "**Sequential (temporal) Data**\n",
        "3. Molecular Biology (Splice-junction Gene Sequences) Data Set\n",
        "\n",
        "4. Hill-Valley Data Set: Bump and Dip in terrain mark over 100 linear points.\n",
        "**Spatial Data**\n",
        "5. Cloud Data Set: The data sets we propose to analyse are constituted of 1024 vectors, each vector includes 10 parameters, data obtained from 512*512 AVHRR images."
      ]
    },
    {
      "cell_type": "code",
      "metadata": {
        "id": "CwIUteXlVYh2",
        "colab_type": "code",
        "colab": {}
      },
      "source": [
        "## Paste the URLs of open datasets here and add comments describing the dataset\n",
        "\n",
        "url1 = \"https://www.mldata.io/download-csv-weka/iris/\"                                                                                                               # Iris\n",
        "\n",
        "url2 = \"https://drive.google.com/uc?id=1k6QC60pT8M_cYduGjsEn1iN_3KyxT-s1&export=download\"                                                                            # Student Example Data Set\n",
        "\n",
        "url3 = 'https://archive.ics.uci.edu/ml/machine-learning-databases/molecular-biology/splice-junction-gene-sequences/splice.data'                                      # Molecular-biology/splice-junction-gene-sequences\n",
        "\n",
        "url4 = 'https://archive.ics.uci.edu/ml/machine-learning-databases/hill-valley/Hill_Valley_without_noise_Testing.data'                                                # Hill_valley_data sequencial data\n",
        "\n",
        "url5 = 'https://archive.ics.uci.edu/ml/machine-learning-databases/undocumented/taylor/cloud.data'                                                                    # Spatio- Temporal data \n",
        "\n",
        "url = [url1, url2, url3, url4, url5]"
      ],
      "execution_count": null,
      "outputs": []
    },
    {
      "cell_type": "markdown",
      "metadata": {
        "id": "h1NmY5wt6S5n",
        "colab_type": "text"
      },
      "source": [
        "Here, first 2 datasets are of Discrete type. So, we can choose any url among these two dataset to test the generalization of following program.\n",
        "### **Input**"
      ]
    },
    {
      "cell_type": "code",
      "metadata": {
        "id": "zFVktqik6Hgy",
        "colab_type": "code",
        "colab": {}
      },
      "source": [
        "dataset = pd.read_csv(url2)"
      ],
      "execution_count": null,
      "outputs": []
    },
    {
      "cell_type": "markdown",
      "metadata": {
        "id": "Q4VmROXkVYh4",
        "colab_type": "text"
      },
      "source": [
        "### 2.   Write a python code to input a dataset (csv file) of Discrete datatype, automatically identify and print the\n",
        "\n",
        "    a. Number of attributes and number of data points\n",
        "    \n",
        "    b. Data scale of each attribute\n",
        "    \n",
        "    c. Data value of each attribute"
      ]
    },
    {
      "cell_type": "code",
      "metadata": {
        "id": "1VcO1aniWaL9",
        "colab_type": "code",
        "colab": {}
      },
      "source": [
        "def data_description(filename):\n",
        "   \n",
        "  r = len(filename)                                                             #no. of entries = no. of rows\n",
        "  c = len(list(filename))                                                       #no. of attributes = no. of columns\n",
        "  print('This dataset contains',r,'entries, each with',c,'attributes','\\n')\n",
        "  rd = filename\n",
        "  for j in range (c):\n",
        "    col = rd.columns[j]\n",
        "    s = pd.unique(rd[col])                                                      # Finding number of Categorical variables \n",
        "    l = len(s)\n",
        "    \n",
        "    if rd.dtypes[j] == 'object':                                                \n",
        "      ds = 'nominal'\n",
        "      dv = 'discrete'\n",
        "     \n",
        "    elif rd.dtypes[j] == 'int64':\n",
        "      dv = 'discrete'\n",
        "      for a in range (l):\n",
        "        if l == 5:\n",
        "         if s[a] > 6:                                                           # Assumption that ordinal data is usually expressed as rating (1,2,3,4,5)\n",
        "           pass\n",
        "         else:  \n",
        "          ds = 'ordinal'\n",
        "        elif l < 8:                                                             # limiting the number of categories for the categorical variables to 8 for interval data scale\n",
        "         ds = 'interval'\n",
        "        else:\n",
        "         ds = 'ratio'\n",
        "\n",
        "    else:\n",
        "       dv = 'continuous'                                                        # For float data type, If categories more than 8\n",
        "       if len(s) < 8:\n",
        "          ds = 'interval'\n",
        "       else:\n",
        "        ds = 'ratio'\n",
        "        \n",
        "    print(j,rd.columns[j],':',ds,',',dv)"
      ],
      "execution_count": null,
      "outputs": []
    },
    {
      "cell_type": "markdown",
      "metadata": {
        "id": "11MQc_bj52r_",
        "colab_type": "text"
      },
      "source": [
        "### **Output**"
      ]
    },
    {
      "cell_type": "code",
      "metadata": {
        "id": "Bveaz47r6CO5",
        "colab_type": "code",
        "colab": {
          "base_uri": "https://localhost:8080/",
          "height": 151
        },
        "outputId": "4d41266f-f6a3-48d3-ce2c-131376944c80"
      },
      "source": [
        "data_description(dataset)"
      ],
      "execution_count": null,
      "outputs": [
        {
          "output_type": "stream",
          "text": [
            "This dataset contains 649 entries, each with 6 attributes \n",
            "\n",
            "0 gender : nominal , discrete\n",
            "1 age : ratio , discrete\n",
            "2 health_rating : ordinal , discrete\n",
            "3 StudentIQ : ratio , discrete\n",
            "4 no_of_courses : ratio , discrete\n",
            "5 Marks : ratio , continuous\n"
          ],
          "name": "stdout"
        }
      ]
    },
    {
      "cell_type": "markdown",
      "metadata": {
        "id": "ruLuGGQxVYh7",
        "colab_type": "text"
      },
      "source": [
        "    Output must similar to this:\n",
        "    \n",
        "    This dataset contains 649 entries, each with 6 attributes\n",
        "\n",
        "    0 gender : nominal, discrete\n",
        "    1 age : ratio, discrete\n",
        "    2 health_rating : ordinal, discrete\n",
        "    3 StudentIQ : ratio, discrete\n",
        "    4 no_of_courses : ratio, discrete\n",
        "    5 Marks : ratio, continuous\n"
      ]
    },
    {
      "cell_type": "markdown",
      "metadata": {
        "id": "vAsmhdS7VYh8",
        "colab_type": "text"
      },
      "source": [
        "### 3. Write a python code to perform statistics on each data column based on its data scale."
      ]
    },
    {
      "cell_type": "code",
      "metadata": {
        "id": "8e-UenHzVYh8",
        "colab_type": "code",
        "colab": {}
      },
      "source": [
        "def stats(filename):\n",
        "   \n",
        "  r = len(filename)                                                             # Number of rows                                                                                                                              \n",
        "  c = len(list(filename))                                                       # Number of columns\n",
        "                                                                                          \n",
        "  rd = filename\n",
        "  for j in range (c):\n",
        "    col = rd.columns[j]                                                         # Finding number of Categorical variables \n",
        "    s = pd.unique(rd[col])\n",
        "    l = len(s)\n",
        "    \n",
        "    if rd.dtypes[j] == 'object':\n",
        "      ds = 'nominal'\n",
        "      dv = 'discrete'\n",
        "     \n",
        "    elif rd.dtypes[j] == 'int64':\n",
        "      dv = 'discrete'\n",
        "      for a in range (l):\n",
        "        #print(int(s[a]))\n",
        "        if l == 5:\n",
        "         if s[a] > 6:                                                           # Assumption that ordinal data is usually expressed as rating (1,2,3,4,5)\n",
        "           pass\n",
        "         else:  \n",
        "          ds = 'ordinal'\n",
        "        elif l < 8:                                                             # limiting the number of categories for the categorical variables to 8 for interval data scale\n",
        "         ds = 'interval'\n",
        "        else:\n",
        "         ds = 'ratio'\n",
        "    else:\n",
        "       dv = 'continuous'\n",
        "       if len(s) < 8:                                                           # For float data type, If categories more than 8\n",
        "          ds = 'interval'\n",
        "       else:\n",
        "        ds = 'ratio'\n",
        "    z = sorted(rd[col])\n",
        "    print(col)\n",
        "    \n",
        "    if ds == 'nominal':\n",
        "     count = pd.DataFrame(rd[col].value_counts())                               # Printing Mode for nominal \n",
        "     print('mode \\t', rd[col].mode().iloc[0])\n",
        "     print(count)\n",
        "    elif ds == \"ordinal\":\n",
        "     count = rd[col].value_counts()\n",
        "     print('mode \\t', rd[col].mode().iloc[0])                                   # Printing Mode for ordinal \n",
        "     print('median \\t', rd[col].median())                                       # Printing Median for ordinal \n",
        "     print(count.sort_index())\n",
        "    else:\n",
        "     print('mode \\t',rd[col].mode().iloc[0])                                    # Printing Mode                                                                                \n",
        "     description = filename[col].describe()                                     #using describe function to obtain other statistical values\n",
        "     description.rename(index={'50%': 'median'},inplace=True)                   #renaming 50% name with median as it is desired output\n",
        "     print(description[1::])\n",
        "     print('\\n')\n",
        "    print('\\n')\n"
      ],
      "execution_count": null,
      "outputs": []
    },
    {
      "cell_type": "markdown",
      "metadata": {
        "id": "PljvJ3ngfjlo",
        "colab_type": "text"
      },
      "source": [
        "### **Output**"
      ]
    },
    {
      "cell_type": "code",
      "metadata": {
        "id": "UdPcAEkZfip0",
        "colab_type": "code",
        "colab": {
          "base_uri": "https://localhost:8080/",
          "height": 1000
        },
        "outputId": "21300521-f55c-430f-e1be-c9d06c6198c1"
      },
      "source": [
        "stats(dataset)"
      ],
      "execution_count": null,
      "outputs": [
        {
          "output_type": "stream",
          "text": [
            "gender\n",
            "mode \t F\n",
            "   gender\n",
            "F     383\n",
            "M     266\n",
            "\n",
            "\n",
            "age\n",
            "mode \t 17\n",
            "mean      16.744222\n",
            "std        1.218138\n",
            "min       15.000000\n",
            "25%       16.000000\n",
            "median    17.000000\n",
            "75%       18.000000\n",
            "max       22.000000\n",
            "Name: age, dtype: float64\n",
            "\n",
            "\n",
            "\n",
            "\n",
            "health_rating\n",
            "mode \t 5\n",
            "median \t 4.0\n",
            "1     90\n",
            "2     78\n",
            "3    124\n",
            "4    108\n",
            "5    249\n",
            "Name: health_rating, dtype: int64\n",
            "\n",
            "\n",
            "StudentIQ\n",
            "mode \t 104\n",
            "mean      100.229584\n",
            "std        10.256494\n",
            "min        75.000000\n",
            "25%        93.000000\n",
            "median    101.000000\n",
            "75%       107.000000\n",
            "max       131.000000\n",
            "Name: StudentIQ, dtype: float64\n",
            "\n",
            "\n",
            "\n",
            "\n",
            "no_of_courses\n",
            "mode \t 17\n",
            "mean      10.596302\n",
            "std        5.714697\n",
            "min        1.000000\n",
            "25%        5.000000\n",
            "median    11.000000\n",
            "75%       16.000000\n",
            "max       20.000000\n",
            "Name: no_of_courses, dtype: float64\n",
            "\n",
            "\n",
            "\n",
            "\n",
            "Marks\n",
            "mode \t 52.81\n",
            "mean      75.137257\n",
            "std       14.559722\n",
            "min       50.120000\n",
            "25%       62.560000\n",
            "median    75.120000\n",
            "75%       87.670000\n",
            "max       99.860000\n",
            "Name: Marks, dtype: float64\n",
            "\n",
            "\n",
            "\n",
            "\n"
          ],
          "name": "stdout"
        }
      ]
    },
    {
      "cell_type": "markdown",
      "metadata": {
        "id": "Cl2tLrqTVYh_",
        "colab_type": "text"
      },
      "source": [
        "### 4. Can we use a box plot for visualizing ordinal data ? (Yes/No). Explain why.\n"
      ]
    },
    {
      "cell_type": "markdown",
      "metadata": {
        "id": "qdKIURtzVYiA",
        "colab_type": "text"
      },
      "source": [
        "Yes.\n",
        "\n",
        "A boxplot is a standardized way of displaying the distribution of data based on a five number summary (“minimum”, first quartile (Q1), median, third quartile (Q3), and “maximum”).\n",
        "\n",
        "Since we can find all values for ordinal dataset, we can also draw Box Plot for it. "
      ]
    },
    {
      "cell_type": "markdown",
      "metadata": {
        "id": "T4r8xcgSVYiA",
        "colab_type": "text"
      },
      "source": [
        "###   5.  Write a python code to visualize the data (a generalized method depending on data scale) "
      ]
    },
    {
      "cell_type": "code",
      "metadata": {
        "id": "oyUtEVdZVYiB",
        "colab_type": "code",
        "colab": {}
      },
      "source": [
        "def visualize_data(filename):\n",
        "            \n",
        "    df1 = filename.select_dtypes([np.int64, np.float64])                        # Selecting features of type int and float for plotting graph\n",
        "\n",
        "    for i, col in enumerate(df1.columns):\n",
        "        plt.figure(i)\n",
        "        \n",
        "        sns.distplot(df1[col])                                                  # Seaborn distplot\n",
        "        print('\\n')\n",
        "        plt.figure(len(df1.columns)+i)\n",
        "        \n",
        "        sns.countplot(x=col, data=df1)                                          # Seaborn countplot\n",
        "        print('\\n')\n",
        "\n"
      ],
      "execution_count": null,
      "outputs": []
    },
    {
      "cell_type": "markdown",
      "metadata": {
        "id": "gqsqt4FSfEnd",
        "colab_type": "text"
      },
      "source": [
        "### **Output**"
      ]
    },
    {
      "cell_type": "code",
      "metadata": {
        "id": "4UzqSvLefLdc",
        "colab_type": "code",
        "colab": {
          "base_uri": "https://localhost:8080/",
          "height": 1000
        },
        "outputId": "49cfcf3d-6082-4c32-8ef3-09ff93b4c745"
      },
      "source": [
        "visualize_data(dataset)    "
      ],
      "execution_count": null,
      "outputs": [
        {
          "output_type": "stream",
          "text": [
            "\n",
            "\n",
            "\n",
            "\n",
            "\n",
            "\n",
            "\n",
            "\n",
            "\n",
            "\n",
            "\n",
            "\n",
            "\n",
            "\n",
            "\n",
            "\n",
            "\n",
            "\n",
            "\n",
            "\n"
          ],
          "name": "stdout"
        },
        {
          "output_type": "display_data",
          "data": {
            "image/png": "[encoded data removed]",
            "text/plain": [
              "<Figure size 432x288 with 1 Axes>"
            ]
          },
          "metadata": {
            "tags": [],
            "needs_background": "light"
          }
        },
        {
          "output_type": "display_data",
          "data": {
            "image/png": "[encoded data removed]",
            "text/plain": [
              "<Figure size 432x288 with 1 Axes>"
            ]
          },
          "metadata": {
            "tags": [],
            "needs_background": "light"
          }
        },
        {
          "output_type": "display_data",
          "data": {
            "image/png": "[encoded data removed]",
            "text/plain": [
              "<Figure size 432x288 with 1 Axes>"
            ]
          },
          "metadata": {
            "tags": [],
            "needs_background": "light"
          }
        },
        {
          "output_type": "display_data",
          "data": {
            "image/png": "[encoded data removed]",
            "text/plain": [
              "<Figure size 432x288 with 1 Axes>"
            ]
          },
          "metadata": {
            "tags": [],
            "needs_background": "light"
          }
        },
        {
          "output_type": "display_data",
          "data": {
            "image/png": "[encoded data removed]",
            "text/plain": [
              "<Figure size 432x288 with 1 Axes>"
            ]
          },
          "metadata": {
            "tags": [],
            "needs_background": "light"
          }
        },
        {
          "output_type": "display_data",
          "data": {
            "image/png": "[encoded data removed]",
            "text/plain": [
              "<Figure size 432x288 with 1 Axes>"
            ]
          },
          "metadata": {
            "tags": [],
            "needs_background": "light"
          }
        },
        {
          "output_type": "display_data",
          "data": {
            "image/png": "[encoded data removed]",
            "text/plain": [
              "<Figure size 432x288 with 1 Axes>"
            ]
          },
          "metadata": {
            "tags": [],
            "needs_background": "light"
          }
        },
        {
          "output_type": "display_data",
          "data": {
            "image/png": "[encoded data removed]",
            "text/plain": [
              "<Figure size 432x288 with 1 Axes>"
            ]
          },
          "metadata": {
            "tags": [],
            "needs_background": "light"
          }
        },
        {
          "output_type": "display_data",
          "data": {
            "image/png": "[encoded data removed]",
            "text/plain": [
              "<Figure size 432x288 with 1 Axes>"
            ]
          },
          "metadata": {
            "tags": [],
            "needs_background": "light"
          }
        },
        {
          "output_type": "display_data",
          "data": {
            "image/png": "[encoded data removed]",
            "text/plain": [
              "<Figure size 432x288 with 1 Axes>"
            ]
          },
          "metadata": {
            "tags": [],
            "needs_background": "light"
          }
        }
      ]
    }
  ]
}