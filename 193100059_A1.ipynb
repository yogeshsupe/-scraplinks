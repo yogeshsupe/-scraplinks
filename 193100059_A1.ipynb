{
  "nbformat": 4,
  "nbformat_minor": 0,
  "metadata": {
    "colab": {
      "name": "193100059_A1.ipynb",
      "provenance": [],
      "include_colab_link": true
    },
    "kernelspec": {
      "name": "pycharm-668c769d",
      "language": "python",
      "display_name": "PyCharm (pythonlearn)"
    }
  },
  "cells": [
    {
      "cell_type": "markdown",
      "metadata": {
        "id": "view-in-github",
        "colab_type": "text"
      },
      "source": [
        "<a href=\"https://colab.research.google.com/github/yogeshsupe/-scraplinks/blob/master/193100059_A1.ipynb\" target=\"_parent\"><img src=\"https://colab.research.google.com/assets/colab-badge.svg\" alt=\"Open In Colab\"/></a>"
      ]
    },
    {
      "cell_type": "markdown",
      "metadata": {
        "id": "YmfXlYieAQvZ",
        "colab_type": "text"
      },
      "source": [
        "# Prime Numbers"
      ]
    },
    {
      "cell_type": "markdown",
      "metadata": {
        "id": "2mQHhA2J98wX",
        "colab_type": "text"
      },
      "source": [
        "Create a python code that will take an integer as an input and output all prime numbers less than the\n",
        "input number.\n",
        "Please make sure that the program is so written that it is able to handle any invalid input (example a\n",
        "negative integer, a float, a string, etc.)."
      ]
    },
    {
      "cell_type": "code",
      "metadata": {
        "id": "Zmwt8ZI49ywX",
        "colab_type": "code",
        "pycharm": {
          "is_executing": true
        },
        "colab": {}
      },
      "source": [
        "                                                                                # First accepting input as float and rejecting alphanumeric\n",
        "try:\n",
        "    b = float(input())\n",
        "    c = int(b)\n",
        "except:\n",
        "    print(\"‘You have entered wrong input’\")\n",
        "    quit()                                                                      # Terminating Code for Invalid input\n",
        "                                                                                \n",
        "l = []                                                                          # Defining list to store prime values\n",
        "\n",
        "def get_primenumbers (a) :\n",
        "    if a>0:\n",
        "        for a in range (2,a+1,1):                                               # To check upto first a numbers\n",
        "\n",
        "            for i in range(2, a + 1, 1):                                        # To check whether number is prime or not\n",
        "\n",
        "                if a % i == 0 and i < a:\n",
        "\n",
        "                    break\n",
        "            if i == a:\n",
        "                l.append(a)\n",
        "        #print(a, \" is a prime\")\n",
        "        print(l)\n",
        "    else:\n",
        "        print(\"‘You have entered wrong input’\")\n",
        "get_primenumbers(c)\n"
      ],
      "execution_count": null,
      "outputs": []
    },
    {
      "cell_type": "markdown",
      "metadata": {
        "id": "dwObmFCY97S4",
        "colab_type": "text"
      },
      "source": [
        "# Towers of Hanoi puzzle"
      ]
    },
    {
      "cell_type": "code",
      "metadata": {
        "id": "5_JntrJ7_pt8",
        "colab_type": "code",
        "pycharm": {
          "is_executing": true
        },
        "colab": {}
      },
      "source": [
        "                                                                                # Taking input for number of of rings\n",
        "m=int(input())\n",
        "l1=list(range(1,m+1,1))\n",
        "l2=[]\n",
        "l3=[]\n",
        "l1.reverse()\n",
        "                                                                                # Defining three lists representing three towers and reverse function to maintain its descending order\n",
        "print('Initial Condition :',l1,l2,l3)\n",
        "count=1\n",
        "                                                                                # Counter to measure number of steps\n",
        "def move(n, source, target, auxiliary):\n",
        "\n",
        "    global count\n",
        "    \n",
        "    if n > 0:\n",
        "                                                                                # Move n - 1 disks from source to auxiliary, so they are out of the way\n",
        "        move(n - 1, source, auxiliary, target)\n",
        "                                                                                # Move the nth disk from source to target\n",
        "        target.append(source.pop())\n",
        "                                                                                # Display our progress\n",
        "        print('Step',count,'=',l1, l2, l3, '', end =\" \"'\\n')\n",
        "        count+=1\n",
        "                                                                                # Move the n - 1 disks that we left on auxiliary onto target\n",
        "        move(n - 1, auxiliary, target, source)\n",
        "\n",
        "                                                                                # Initiate call from source A to target C with auxiliary B\n",
        "move(m, l1, l2, l3)"
      ],
      "execution_count": null,
      "outputs": []
    }
  ]
}