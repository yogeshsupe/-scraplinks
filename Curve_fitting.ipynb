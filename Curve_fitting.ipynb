{
  "nbformat": 4,
  "nbformat_minor": 0,
  "metadata": {
    "colab": {
      "name": "Curve fitting",
      "provenance": [],
      "collapsed_sections": [],
      "authorship_tag": "ABX9TyOZlaf32aaLcqr9zxaHcN7V",
      "include_colab_link": true
    },
    "kernelspec": {
      "name": "python3",
      "display_name": "Python 3"
    }
  },
  "cells": [
    {
      "cell_type": "markdown",
      "metadata": {
        "id": "view-in-github",
        "colab_type": "text"
      },
      "source": [
        "<a href=\"https://colab.research.google.com/github/yogeshsupe/-scraplinks/blob/master/Curve_fitting.ipynb\" target=\"_parent\"><img src=\"https://colab.research.google.com/assets/colab-badge.svg\" alt=\"Open In Colab\"/></a>"
      ]
    },
    {
      "cell_type": "code",
      "metadata": {
        "id": "sxNSRgcKot_N",
        "outputId": "e8d52934-bbc5-4a9c-986d-c50b5c62c108",
        "colab": {
          "base_uri": "https://localhost:8080/",
          "height": 341
        }
      },
      "source": [
        "import matplotlib.pyplot as plt\n",
        "from scipy.optimize import curve_fit\n",
        "import numpy as np\n",
        " \n",
        "#Fitting function\n",
        "def func(x, a, b):\n",
        "    return a*np.log(x)+b\n",
        "    #return a*np.exp(b*x)\n",
        "    #return a*x+b\n",
        " \n",
        "#Experimental x and y data points    \n",
        "xData = np.array([1, 2, 3, 4, 5,6,7,8,9,10,11,12,13,14,15,16,17,18,19,20,21,22,23,24,25])\n",
        "yData = np.array([4931584,4309811.2,3812556.8,\n",
        "3403776,\n",
        "3074457.6,\n",
        "2804940.8,\n",
        "2579660.8,\n",
        "2386329.6,\n",
        "2220851.2,\n",
        "2076672,\n",
        "1950515.2,\n",
        "1838284.8,\n",
        "1737523.2,\n",
        "1647411.2,\n",
        "1567129.6,\n",
        "1493401.6,\n",
        "1428684.8,\n",
        "1367244.8,\n",
        "1310720,\n",
        "1258291.2,\n",
        "1211596.8,\n",
        "1167360,\n",
        "1126400,\n",
        "1087078.4,\n",
        "1052672])\n",
        " \n",
        "#Plot experimental data points\n",
        "plt.plot(xData, yData, 'bo', label='experimental-data')\n",
        " \n",
        "# Initial guess for the parameters\n",
        "initialGuess = [1.0,1.0]    \n",
        " \n",
        "#Perform the curve-fit\n",
        "popt, pcov = curve_fit(func, xData, yData, initialGuess)\n",
        "print(popt)\n",
        " \n",
        "#x values for the fitted function\n",
        "xFit = np.arange(0.0, 25.0, 0.01)\n",
        " \n",
        "#Plot the fitted function\n",
        "plt.plot(xFit, func(xFit, *popt), 'r', label='fit params: a=%5.3f, b=%5.3f' % tuple(popt))\n",
        " \n",
        "plt.xlabel('x')\n",
        "plt.ylabel('y')\n",
        "plt.legend()\n",
        "plt.show()"
      ],
      "execution_count": null,
      "outputs": [
        {
          "output_type": "stream",
          "text": [
            "[-1278818.7239455   5080842.00061962]\n"
          ],
          "name": "stdout"
        },
        {
          "output_type": "stream",
          "text": [
            "/usr/local/lib/python3.6/dist-packages/ipykernel_launcher.py:7: RuntimeWarning: divide by zero encountered in log\n",
            "  import sys\n"
          ],
          "name": "stderr"
        },
        {
          "output_type": "display_data",
          "data": {
            "image/png": "[encoded data removed]",
            "text/plain": [
              "<Figure size 432x288 with 1 Axes>"
            ]
          },
          "metadata": {
            "tags": [],
            "needs_background": "light"
          }
        }
      ]
    },
    {
      "cell_type": "code",
      "metadata": {
        "id": "9KjSJUDZyxP_",
        "outputId": "c26ae0f6-3e09-44c6-b928-37225df23712",
        "colab": {
          "base_uri": "https://localhost:8080/",
          "height": 34
        }
      },
      "source": [
        "5822873.6, 4931584,"
      ],
      "execution_count": null,
      "outputs": [
        {
          "output_type": "execute_result",
          "data": {
            "text/plain": [
              "(5822873.6, 4931584)"
            ]
          },
          "metadata": {
            "tags": []
          },
          "execution_count": 14
        }
      ]
    },
    {
      "cell_type": "code",
      "metadata": {
        "id": "h2GIVgUE0cKT",
        "outputId": "87e313a3-fbb4-49f0-907c-1804e4b4de23",
        "colab": {
          "base_uri": "https://localhost:8080/",
          "height": 102
        }
      },
      "source": [
        "for i in range (25,30,1):\n",
        "  print(i,'\\t' ,-1278818.7239455*np.log(i)+5080842.00061962)"
      ],
      "execution_count": null,
      "outputs": [
        {
          "output_type": "stream",
          "text": [
            "25 \t 964483.3257226488\n",
            "26 \t 914327.1433757367\n",
            "27 \t 866064.1053034281\n",
            "28 \t 819556.480991926\n",
            "29 \t 774681.0441693133\n"
          ],
          "name": "stdout"
        }
      ]
    },
    {
      "cell_type": "code",
      "metadata": {
        "id": "ufww7b2q1S70"
      },
      "source": [
        ""
      ],
      "execution_count": null,
      "outputs": []
    }
  ]
}