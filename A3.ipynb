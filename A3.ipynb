{
  "nbformat": 4,
  "nbformat_minor": 0,
  "metadata": {
    "colab": {
      "name": "A3.ipynb",
      "provenance": [],
      "collapsed_sections": [
        "NvHf_85Zl11M"
      ],
      "authorship_tag": "ABX9TyO3VSUTTYV0VGg2bQJ0/BpU",
      "include_colab_link": true
    },
    "kernelspec": {
      "name": "python3",
      "display_name": "Python 3"
    }
  },
  "cells": [
    {
      "cell_type": "markdown",
      "metadata": {
        "id": "view-in-github",
        "colab_type": "text"
      },
      "source": [
        "<a href=\"https://colab.research.google.com/github/yogeshsupe/-scraplinks/blob/master/A3.ipynb\" target=\"_parent\"><img src=\"https://colab.research.google.com/assets/colab-badge.svg\" alt=\"Open In Colab\"/></a>"
      ]
    },
    {
      "cell_type": "code",
      "metadata": {
        "id": "EGXhaH7Of3XU"
      },
      "source": [
        "import random as rd\n",
        "import numpy as np\n",
        "import pytest\n",
        "from scipy.spatial import distance"
      ],
      "execution_count": null,
      "outputs": []
    },
    {
      "cell_type": "code",
      "metadata": {
        "id": "9Ls-EgeDl-L4"
      },
      "source": [
        "dpt1 = np.array([5,9,0,3,4])\n",
        "dpt2 = np.array([4,8,3,-1,1])\n",
        "dv = [9,15.7,-5.3,-8.2,17]\n",
        "data = [[3,-5,6,4,0],[8,7,-1,7,3],[5.4,9,2.3,-6.5,4.3],[6,8.7,2.9,5,3],[5,4,6,9,2],[8,3,9,4,6],[8,6,1,5,7],[9,4,3.6,-6,4]]\n",
        "r =3\n",
        "\n"
      ],
      "execution_count": null,
      "outputs": []
    },
    {
      "cell_type": "code",
      "metadata": {
        "id": "krot6S5CzK6l"
      },
      "source": [
        "def similarity_measure(dpt1, dpt2, Measure_name, *args):\n",
        "    \"\"\"A function that computes dissimilarity between two datapoints\n",
        "    according to the measure input by the user\n",
        "    \n",
        "    Args:\n",
        "    dpt1 (1D array of int or float): A 1-D array Datapoint 1\n",
        "    dpt2 (1D array of int or float): A 1-D array Datapoint 2\n",
        "    Measure_name (string): Name of the measure to be computed\n",
        "\n",
        "    returns:\n",
        "    d, s (tuple): Dissimilarity and Similarity between dpt1 and dpt2\n",
        "    \n",
        "    \"\"\"\n",
        "    \n",
        "    \n",
        "    try:\n",
        "        assert str(type(dpt1)) == \"<class 'numpy.ndarray'>\" or str(type(dpt2)) == \"<class 'numpy.ndarray'>\"\n",
        "        try:\n",
        "            assert dpt1.shape[0] == dpt2.shape[0]\n",
        "            try:\n",
        "                assert len(dpt1.shape) == 1\n",
        "            except:\n",
        "                print('Datapoints should be one dimensional only. Received higher dimensional array!')\n",
        "                return None\n",
        "        except:\n",
        "            print('Dimensions of datapoints not same')\n",
        "            return None\n",
        "    except:\n",
        "        print('Datapoints not entered as array of numbers!')\n",
        "        return None\n",
        "    \n",
        "    a = np.mat(dpt1)\n",
        "    b = np.mat(dpt2)\n",
        "    dif = a-b\n",
        "    Measure_name = sm\n",
        "    #global dis,sim\n",
        "    print(sm)\n",
        "\n",
        "\n",
        "    if sm in ['EN', 'HSN', 'DN', 'MN']:\n",
        "        if sm == 'EN':\n",
        "            dis = sum((a-b)**2)**(1/2)\n",
        "    \n",
        "        elif sm == 'HSN':\n",
        "            d = np.ones([a.shape[0],a.shape[0]])\n",
        "            dis = np.power(dif*d*dif.T,1/2)\n",
        "\n",
        "        elif sm == 'DN':\n",
        "            d = np.mat(np.diag(dv))\n",
        "            dis = m.sqrt(dif*d*dif.T)\n",
        "  \n",
        "        else:# sm == 'MN':  \n",
        "            data = np.mat(data)\n",
        "            cm = np.cov(data)\n",
        "            try:\n",
        "                cminv = np.linalg.inv(cm)\n",
        "            except:\n",
        "                print('Covariance matrix can not be inverted')\n",
        "\n",
        "\n",
        "\n",
        "    elif sm in ['CS', 'OS', 'JS', 'DS']:\n",
        "        cs\n",
        "        sum(a*b)/(sum(a**2) * sum(b**2))**(1/2)\n",
        "        os\n",
        "        sum(a*b)/min(sum(a**2),sum(b**2))\n",
        "        js\n",
        "        (sum(a*b)/(sum(a**2) + (sum(b**2)) - sum(a*b)))\n",
        "        ds\n",
        "        ds = 2*sum(a*b)/(sum(a**2) + sum(b**2))\n",
        "        \n",
        "\n",
        "    elif sm == 'LMN':\n",
        "        pass\n",
        "        \n",
        "    else:\n",
        "        print('Given Measure abbreviation not found!')\n",
        "        return None\n",
        "\n",
        "    \n",
        "    \n",
        "    \n",
        "    print('(Dissimilarity, Similarity):', (dis, sim))    \n",
        "    return (dis,sim)"
      ],
      "execution_count": null,
      "outputs": []
    },
    {
      "cell_type": "code",
      "metadata": {
        "id": "vsuq2qK-zA9F"
      },
      "source": [
        "ans = similarity_measure(dpt1, dpt2,'EN')"
      ],
      "execution_count": null,
      "outputs": []
    },
    {
      "cell_type": "code",
      "metadata": {
        "id": "Cq6hMkCi0tT-"
      },
      "source": [
        "a = np.mat(dpt1)\n",
        "b = np.mat(dpt2)\n",
        "dif = a-b\n",
        "\n",
        "if sm == 'EN':\n",
        "  dis = sum((a-b)**2)**(1/2)\n",
        "  sim = 1/(1+dis)\n",
        "  \n",
        "elif sm == 'HSN':\n",
        "  d = np.ones([a.shape[0],a.shape[0]])\n",
        "  dis = np.power(dif*d*dif.T,1/2)\n",
        "  sim = 1/(1+dis)\n",
        "\n",
        "elif sm == 'DN':\n",
        "  d = np.mat(np.diag(dv))\n",
        "  dis = m.sqrt(dif*d*dif.T)\n",
        "  sim = 1/(1+dis)\n",
        "  \n",
        "elif sm == 'MN':  \n",
        "  data = np.mat(data)\n",
        "  cm = np.cov(data)\n",
        "  try:\n",
        "    cminv = np.linalg.inv(cm)\n",
        "  except:\n",
        "    print('Covariance matrix can not be inverted')\n",
        "  dis= np.power(dif*cminv*dif.T,0.5)\n",
        "  sim = 1/(1+dis)\n",
        "  \n",
        "\n",
        "\n",
        "\n",
        "elif sm == 'LMN':\n",
        "  r = int(input('Enter alpha value'))\n",
        "  def Minkowski(a,b,r):\n",
        "     return sum((a-b)**r)**(1/r)\n",
        "  distLMN = Minkowski(a,b,r)\n",
        "  print(\"The Minkowski distance: \",distLMN)\n",
        "\n",
        "elif sm == 'CS':\n",
        "  cos = sum(a*b)/(sum(a**2) * sum(b**2))**(1/2)\n",
        "  print(\"The cosine similarity: \",cos)  \n",
        "\n",
        "elif sm == 'OS':\n",
        "  ol = sum(a*b)/min(sum(a**2),sum(b**2))\n",
        "  print(\"The overlap similarity: \",ol)\n",
        "\n",
        "elif sm == 'DS':\n",
        "  dc = 2*sum(a*b)/(sum(a**2) + sum(b**2))\n",
        "  print(\"The Dice similarity: \",dc)\n",
        "\n",
        "elif sm == 'JS':\n",
        "  ejSim = (sum(a*b)/(sum(a**2) + (sum(b**2)) - sum(a*b)))\n",
        "  print(\"The Extended Jaccard coefficient \",ejSim)\n",
        "  "
      ],
      "execution_count": null,
      "outputs": []
    },
    {
      "cell_type": "markdown",
      "metadata": {
        "id": "RrYCi8w2gkV8"
      },
      "source": [
        "## Assertions"
      ]
    },
    {
      "cell_type": "markdown",
      "metadata": {
        "id": "NvHf_85Zl11M"
      },
      "source": [
        "### Custom Input"
      ]
    },
    {
      "cell_type": "code",
      "metadata": {
        "id": "gGpo2PdG4ZBy"
      },
      "source": [
        "a = list()\n",
        "b = list()\n",
        "num =input(\"Enter how many elements you want:\")\n",
        "print('Enter numbers in array 1: ')\n",
        "for i in range(int(num)):\n",
        "  try:\n",
        "    n = input()\n",
        "    a.append(int(n))\n",
        "  except ValueError:\n",
        "    print(\"Enter integer value\")\n",
        "    n = input()\n",
        "    a.append(int(n))\n",
        "    \n",
        "print('Enter numbers in array 2: ')\n",
        "for i in range(int(num)):\n",
        "    try:\n",
        "      n = input()\n",
        "      b.append(int(n))\n",
        "    except ValueError:\n",
        "      print(\"Enter Numeric value\")\n",
        "      n = input()\n",
        "      b.append(int(n))\n",
        "a = np.array(a)\n",
        "b = np.array(b)\n",
        "print (a,b)\n",
        "\n",
        "from tabulate import tabulate\n",
        "print(tabulate([['Euclidean norm','EN'],\n",
        "                ['Frobenius or Hilbert Schmidt norm','HSN'],\n",
        "                ['Diagonal norm','DN'],\n",
        "                ['Mahalanobis norm','MN'],\n",
        "                ['Lebesgue or Minkowski norm','LMN'],\n",
        "                ['Cosine','CS'],\n",
        "                ['Overlap','OS'],\n",
        "                ['Dice','DS'],\n",
        "                ['Jaccard','JS']],\n",
        "                headers=['Dissimilarity/Similarity Measure', 'Abbreviation']))\n",
        "                \n",
        "\n",
        "sm=input(\"Enter abbrevation for Dissimilarity/ Similarity Measures you want to use \")"
      ],
      "execution_count": null,
      "outputs": []
    },
    {
      "cell_type": "code",
      "metadata": {
        "id": "5mdQwjbKweby"
      },
      "source": [
        "\n",
        "def Euclidean(a,b):\n",
        "    return sum((a-b)**2)**(1/2)\n",
        "\n",
        "def Frobenius(a,b):\n",
        "   \n",
        "\n",
        "def Diagonal(a,b):\n",
        "  print(\"Enter a Diagonl Vector\")\n",
        "  dv = list()\n",
        "  for i in range(int(num)):\n",
        "    try:\n",
        "      n = input()\n",
        "      dv.append(int(n))\n",
        "    except ValueError:\n",
        "      print(\"Enter Integer value\")\n",
        "      n = input()\n",
        "      dv.append(int(n))\n",
        "  dv= np.array(dv)\n",
        "  d = np.diag(dv)\n",
        "  print(d)\n",
        "  t1 = a.transpose\n",
        "  m1 = np.mat(a-b)\n",
        "  d = np.mat(d)\n",
        "  dn = m.sqrt(m1*d*m1.T)\n",
        "  return dn\n",
        "\n",
        "def Minkowski(a,b,r):\n",
        "    return sum((a-b)**r)**(1/r)\n",
        "\n",
        "def Cosine(a,b):\n",
        "  return cosine = sum(a*b)/(sum(a**2) * sum(b**2))**(1/2)\n",
        "\n",
        "def Overlap(a,b):\n",
        "  return ol = sum(a*b)/min(sum(a**2),sum(b**2))\n",
        "\n",
        "def Dice(a,b):\n",
        "  return dc = 2*sum(a*b)/(sum(a**2) + sum(b**2))\n",
        "  \n",
        "def Jaccard(a,b):\n",
        "  return (sum(a*b)/(sum(a**2) + (sum(b**2)) - sum(a*b)))\n"
      ],
      "execution_count": null,
      "outputs": []
    },
    {
      "cell_type": "code",
      "metadata": {
        "id": "Urf9eEZq2Uht"
      },
      "source": [
        "# Python code to implement Euclidean distance\n",
        "import numpy as np\n",
        "a = np.array([1,2,3,1])\n",
        "b = np.array([2,1,2,3])\n",
        "def Euclidean(a,b):\n",
        "    return sum((a-b)**2)**(1/2)\n",
        "distE = Euclidean(a,b)\n",
        "print(\"The Euclidean distance: \",distE)"
      ],
      "execution_count": null,
      "outputs": []
    },
    {
      "cell_type": "code",
      "metadata": {
        "id": "7c7F24gWnHdx"
      },
      "source": [
        "# Mahalanobish distance\n",
        "\n",
        "import numpy as np \n",
        "data = np.array([\n",
        "[1,\t100,\t10],\n",
        "[2,\t300,\t15],\n",
        "[4,\t200,\t20],\n",
        "[2,\t600,\t10],\n",
        "[5,\t100,\t30]])\n",
        "\n",
        "x = np.array([[154,900, 80]]) # input data\n",
        "m = np.mean(data, axis = 0) # mean of the distribution\n",
        "print(\"Mean: \", m)\n",
        "\n",
        "xMm = x - m\n",
        "print(\"The difference with mean xMm: \", xMm)\n",
        "\n",
        "data = np.transpose(data)\n",
        "covM = np.cov(data, bias = False) # To get the covariance matrix\n",
        "invCoveM = np.linalg.inv(covM) # To get the inverse covariance matrix\n",
        "\n",
        "np.set_printoptions(suppress=True)\n",
        "print(\"Covarinace matrix of data:\\n\", covM) \n",
        "print(\"Inv covarinace matrix of data:\\n\", invCoveM) \n",
        "\n",
        "tem1 = np.dot(xMm,invCoveM)\n",
        "tem2 = np.dot(tem1, np.transpose(xMm))\n",
        "print(tem1)\n",
        "print(tem2) \n",
        "MD = np.sqrt(tem2)\n",
        "\n",
        "print(\"The Mahalanobish distance: \", np.reshape(MD, -1))"
      ],
      "execution_count": null,
      "outputs": []
    },
    {
      "cell_type": "code",
      "metadata": {
        "id": "m2J9iZF8vkRZ",
        "outputId": "97802adb-bf42-476d-f775-403b2324762e",
        "colab": {
          "base_uri": "https://localhost:8080/",
          "height": 67
        }
      },
      "source": [
        "# Python code to implement Minkowski distance\n",
        "import numpy as np\n",
        "# a = np.array([1,2,3,1])\n",
        "# b = np.array([2,1,2,3])\n",
        "a = np.array([5,9,0,3,4])\n",
        "b = np.array([4,8,5,1,1])\n",
        "def Minkowski(a,b,r):\n",
        "    return sum((a-b)**r)**(1/r)\n",
        "r = 3 # Let the value or r is 5\n",
        "distMK = Minkowski(a,b,r)\n",
        "print(\"The Minkowski distance: \",distMK)"
      ],
      "execution_count": null,
      "outputs": [
        {
          "output_type": "stream",
          "text": [
            "The Minkowski distance:  nan\n"
          ],
          "name": "stdout"
        },
        {
          "output_type": "stream",
          "text": [
            "/usr/local/lib/python3.6/dist-packages/ipykernel_launcher.py:8: RuntimeWarning: invalid value encountered in power\n",
            "  \n"
          ],
          "name": "stderr"
        }
      ]
    },
    {
      "cell_type": "code",
      "metadata": {
        "id": "3bT3yqTk16L_"
      },
      "source": [
        "# Python code to implement Cosine similarity\n",
        "import numpy as np\n",
        "cosine = sum(a*b)/(sum(a**2) * sum(b**2))**(1/2)\n",
        "print(\"The cosine similarity: \",cosine)"
      ],
      "execution_count": null,
      "outputs": []
    },
    {
      "cell_type": "code",
      "metadata": {
        "id": "BXS6gEZ22KAN"
      },
      "source": [
        "# Python code to implement overlap similarity\n",
        "import numpy as np\n",
        "a = np.array([1,2,3,1])\n",
        "b = np.array([3,1,2,1])\n",
        "overlap = sum(a*b)/min(sum(a**2),sum(b**2))\n",
        "print(\"The overlap similarity: \",overlap)"
      ],
      "execution_count": null,
      "outputs": []
    },
    {
      "cell_type": "code",
      "metadata": {
        "id": "MQ-FkQJsvJzU"
      },
      "source": [
        "# Python code to implement Dice similarity\n",
        "import numpy as np\n",
        "a = np.array([1,2,3,1])\n",
        "b = np.array([3,1,2,1])\n",
        "dice = 2*sum(a*b)/(sum(a**2) + sum(b**2))\n",
        "print(\"The Dice similarity: \",dice)"
      ],
      "execution_count": null,
      "outputs": []
    },
    {
      "cell_type": "code",
      "metadata": {
        "id": "6twuSmk72SrW"
      },
      "source": [
        "# Python code of Extended Jaccard coefficient (Tainimoto coefficient)\n",
        "import numpy as np\n",
        "a = np.array([1,0,1,0,1])\n",
        "b = np.array([1,1,1,0,1])\n",
        "def ej(a,b):\n",
        "    return (sum(a*b)/(sum(a**2) + (sum(b**2)) - sum(a*b)))\n",
        "ejSim = ej(a,b)\n",
        "print(\"The Extended Jaccard coefficient \",ejSim)"
      ],
      "execution_count": null,
      "outputs": []
    },
    {
      "cell_type": "code",
      "metadata": {
        "id": "Dcqq1LCWl29m",
        "outputId": "2eff0982-c766-442a-c4ad-6c33065d7b05",
        "colab": {
          "base_uri": "https://localhost:8080/",
          "height": 100
        }
      },
      "source": [
        "a = list()\n",
        "b = list()\n",
        "num = rd.randrange(3,7)\n",
        "for i in range(num):\n",
        "    a.append(rd.getrandbits(8))\n",
        "    b.append(rd.getrandbits(8))\n",
        "a = np.array(a)\n",
        "b = np.array(b)\n",
        "print(type(a-b),type(a))\n",
        "sm = ['EN','HSN','DN','MN','LMN','CS','OS','DS','JS']\n",
        "print('Data Point 1: ','\\t'*3,a)\n",
        "print('Data Point 2: ','\\t'*3,b)\n",
        "sma = rd.choice(sm)\n",
        "print('Dissimilarity/Similarity Measure:','\\t',sma)\n",
        "print(sum((a-b)**2)**(1/2))"
      ],
      "execution_count": null,
      "outputs": [
        {
          "output_type": "stream",
          "text": [
            "<class 'numpy.ndarray'> <class 'numpy.ndarray'>\n",
            "Data Point 1:  \t\t\t [ 88 101  55]\n",
            "Data Point 2:  \t\t\t [ 84 139 179]\n",
            "Dissimilarity/Similarity Measure: \t EN\n",
            "129.75361266646874\n"
          ],
          "name": "stdout"
        }
      ]
    },
    {
      "cell_type": "markdown",
      "metadata": {
        "id": "5MB_zprV3Zem"
      },
      "source": [
        "# New section"
      ]
    },
    {
      "cell_type": "code",
      "metadata": {
        "id": "dNkKHx4OcPzW"
      },
      "source": [
        "print(\"Enter a Diagonl Vector\")\n",
        "dv = list()\n",
        "for i in range(int(num)):\n",
        "    try:\n",
        "      n = input()\n",
        "      dv.append(int(n))\n",
        "    except ValueError:\n",
        "      print(\"Enter Integer value\")\n",
        "      n = input()\n",
        "      dv.append(int(n))\n",
        "dv= np.array(dv)\n",
        "d = np.diag(dv)\n",
        "print(d)\n",
        "t1 = a.transpose\n",
        "m1 = np.mat(a-b)\n",
        "d = np.mat(d)\n",
        "dn = m.sqrt(m1*d*m1.T)\n",
        "print(dn)"
      ],
      "execution_count": null,
      "outputs": []
    },
    {
      "cell_type": "code",
      "metadata": {
        "id": "K3nrSNWJdYqm"
      },
      "source": [
        "print(Diagonal(a,b))\n",
        "t1 = a.transpose\n",
        "m1 = np.mat(a-b)\n",
        "d = np.mat(d)\n",
        "dn = m.sqrt(m1*d*m1.T)\n",
        "print(dn)\n"
      ],
      "execution_count": null,
      "outputs": []
    },
    {
      "cell_type": "code",
      "metadata": {
        "id": "Y25KlqUmp_Iu"
      },
      "source": [
        "\n",
        "m1 = np.mat(a-b)\n",
        "d = np.ones([num, num], dtype = int )\n",
        "dn = m.sqrt(m1*d*m1.T)\n",
        "print(dn)"
      ],
      "execution_count": null,
      "outputs": []
    },
    {
      "cell_type": "code",
      "metadata": {
        "id": "xBdQfZP45qGS"
      },
      "source": [
        "import numpy as np\n",
        "num=5\n",
        "data = np.random.randint(10, size=(num,num))\n",
        "print(\"Random set of rows from 2D array array: \")\n",
        "print(data)\n",
        "dif = np.mat(a)-np.mat(b)\n",
        "data = np.mat(data)\n",
        "cm = np.cov(data)\n",
        "\n",
        "try:\n",
        "  cminv = np.linalg.inv(cm)\n",
        "except:\n",
        "  print('Covariance matrix can not be inverted')\n",
        "md = np.power(dif*cminv*dif.T,0.5)\n",
        "print(md)\n"
      ],
      "execution_count": null,
      "outputs": []
    },
    {
      "cell_type": "code",
      "metadata": {
        "id": "hAamitFi5BkF"
      },
      "source": [
        "!pytest\n"
      ],
      "execution_count": null,
      "outputs": []
    },
    {
      "cell_type": "code",
      "metadata": {
        "id": "r7oUG7aEm2D9"
      },
      "source": [
        ""
      ],
      "execution_count": null,
      "outputs": []
    },
    {
      "cell_type": "markdown",
      "metadata": {
        "id": "-IMVF7E0EruQ"
      },
      "source": [
        "# New section"
      ]
    },
    {
      "cell_type": "code",
      "metadata": {
        "id": "arw24xvaEvKD"
      },
      "source": [
        "\n",
        "\n",
        "def error(dpt1, dpt2, Measure_name, *args):                                     #\n",
        "    try:\n",
        "        similarity_measure(dpt1, dpt2, Measure_name, *args)\n",
        "        return False\n",
        "    except:\n",
        "        return True\n",
        "\n",
        "def test_arg1():    \n",
        "    i1=[[2,3,5],[3,6,9],\"EN\"]                                      \n",
        "    assert error(i1[0],i1[1],i1[0]) == False                                    # Array Data type is expected as input\n",
        "\n",
        "def test_arg2():\n",
        "    u = np.array([2,3,5])\n",
        "    v = np.array([-1,0,9,4])\n",
        "    assert error(u,v,'EN') == False                                             # Dimension of datapoints is not same\n",
        "\n",
        "def test_arg3():\n",
        "    v = np.array([-1,0,9,4])\n",
        "    w = np.array([2,-5,0.8,4])\n",
        "    assert error(v,w,'Measure')== False                                         # Wrong Measure Abbrevation Entered\n",
        "\n",
        "def test_arg4():\n",
        "    v = np.array([-1,0,9,4])\n",
        "    w = np.array([2,-5,0.8,4])\n",
        "    assert error(v,w,'LMN', -2)== False                                         # Alpha Value should be positive for integer\n",
        "\n",
        "def test_arg5():\n",
        "    v = np.array([[-1,8],[-6,5]])\n",
        "    w = np.array([[2,8],[-5,7]])\n",
        "    assert error(v,w,'EN')== False                                              # Datapoints should be one dimensional only. Received higher dimensional array!\n"
      ],
      "execution_count": null,
      "outputs": []
    }
  ]
}